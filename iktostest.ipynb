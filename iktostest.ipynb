{
 "cells": [
  {
   "cell_type": "code",
   "execution_count": 24,
   "id": "f65e7bd5-0608-4f54-9dd3-ecad983c7053",
   "metadata": {},
   "outputs": [],
   "source": [
    "import itertools\n",
    "import pickle\n",
    "import warnings\n",
    "\n",
    "import numpy as np\n",
    "import pandas as pd\n",
    "import seaborn as sns\n",
    "import sklearn.model_selection as model_selection\n",
    "from rdkit import Chem\n",
    "from rdkit.Chem import rdMolDescriptors\n",
    "from sklearn.ensemble import RandomForestClassifier\n",
    "from sklearn.linear_model import LogisticRegression\n",
    "from sklearn.metrics import roc_auc_score\n",
    "from sklearn.model_selection import cross_val_score, train_test_split\n",
    "from tqdm import tqdm\n",
    "\n",
    "warnings.filterwarnings(\"ignore\")"
   ]
  },
  {
   "cell_type": "markdown",
   "id": "ec6813bd-309e-4a41-b37b-917b33010cbc",
   "metadata": {
    "tags": []
   },
   "source": [
    "# Load dataset and define transformation functions"
   ]
  },
  {
   "cell_type": "markdown",
   "id": "2b3d0060-bac8-4011-8bc3-f4a2549bc972",
   "metadata": {},
   "source": [
    "#### load initial dataset"
   ]
  },
  {
   "cell_type": "code",
   "execution_count": 25,
   "id": "447cea00-c3c7-4702-91d0-4b9d2d779c58",
   "metadata": {},
   "outputs": [],
   "source": [
    "df = pd.read_csv(\"train_set_data.csv\")"
   ]
  },
  {
   "cell_type": "markdown",
   "id": "19ff0960-3192-46dd-a4d4-2d2febd1df2a",
   "metadata": {
    "tags": []
   },
   "source": [
    "#### Check if the dataset is unbalanced"
   ]
  },
  {
   "cell_type": "code",
   "execution_count": 26,
   "id": "c0ff42db-3fe1-4b00-b703-5aba3336699a",
   "metadata": {},
   "outputs": [
    {
     "data": {
      "text/plain": [
       "[Text(0.5, 1.0, 'Number of molecules per tag')]"
      ]
     },
     "execution_count": 26,
     "metadata": {},
     "output_type": "execute_result"
    },
    {
     "data": {
      "image/png": "[encoded data removed]",
      "text/plain": [
       "<Figure size 842.4x144 with 1 Axes>"
      ]
     },
     "metadata": {},
     "output_type": "display_data"
    }
   ],
   "source": [
    "sns.set(rc={\"figure.figsize\": (11.7, 2)})\n",
    "sns.countplot(data=df, y=\"Activity\").set(title=\"Number of molecules per tag\")"
   ]
  },
  {
   "cell_type": "markdown",
   "id": "77ba698b-fcad-4147-8043-c1ef347bdb2b",
   "metadata": {
    "tags": []
   },
   "source": [
    "#### Define a smiles encoder"
   ]
  },
  {
   "cell_type": "code",
   "execution_count": 27,
   "id": "8cea539e-c67d-4b29-8e8c-d037012fd61c",
   "metadata": {},
   "outputs": [],
   "source": [
    "def VectFromSmiles(smiles: str, radius: int = 2, nBits: int = 1024):\n",
    "    \"\"\"Encodes a smiles into a vector of size nBits\n",
    "    Args:\n",
    "        - smiles: simplified molecular-input line-entry system\n",
    "        - radius: integer between 1 and 6\n",
    "        - nBits: vector size (possible values : 512, 1024, 2048, 4096)\n",
    "    \"\"\"\n",
    "    mol = Chem.MolFromSmiles(smiles.strip())\n",
    "    if mol:\n",
    "        return list(\n",
    "            rdMolDescriptors.GetMorganFingerprintAsBitVect(\n",
    "                mol, radius=radius, nBits=nBits\n",
    "            )\n",
    "        )\n",
    "    raise ValueError(f\"{smiles} is not a valid SMILES representation\")"
   ]
  },
  {
   "cell_type": "markdown",
   "id": "5b2b8e60-4805-46ef-881a-b82c047476f8",
   "metadata": {},
   "source": [
    "# Classifier selection\n",
    "Cross validation in order to determine the optimal hyperparamters for each model. Technically, I used a GridSearchCV-like method in order to include radius and nBits parameters"
   ]
  },
  {
   "cell_type": "markdown",
   "id": "ad28bde9-a2d4-44ed-8fdf-4dc9a9e236a2",
   "metadata": {},
   "source": [
    "#### Regularized logistic regression Classifier"
   ]
  },
  {
   "cell_type": "code",
   "execution_count": 28,
   "id": "9f4f3d3c-f0e8-4d88-aa6e-aa527b55d031",
   "metadata": {},
   "outputs": [
    {
     "name": "stderr",
     "output_type": "stream",
     "text": [
      "3000it [26:42,  1.87it/s]"
     ]
    },
    {
     "name": "stdout",
     "output_type": "stream",
     "text": [
      "Best score of LogReg: 0.812306382501321\n",
      "Best parameters of LogReg: {'radius': 2, 'nBits': 2048, 'C': 1, 'penalty': 'l2'}\n"
     ]
    },
    {
     "name": "stderr",
     "output_type": "stream",
     "text": [
      "\n"
     ]
    }
   ],
   "source": [
    "indices_train, indices_test = model_selection.train_test_split(\n",
    "    range(len(df)), test_size=0.2, random_state=200\n",
    ")\n",
    "\n",
    "scores_LogReg = []\n",
    "hyperparameters_LogReg = []\n",
    "for radius, nBits, C, penalty in tqdm(\n",
    "    itertools.product(\n",
    "        [2, 3, 4, 5, 6],\n",
    "        [512, 1024, 2048],\n",
    "        [int(x) for x in np.linspace(0, 1, num=100)],\n",
    "        [\"l1\", \"l2\"],\n",
    "    )\n",
    "):\n",
    "    X = pd.DataFrame(\n",
    "        df[\"SMILES\"]\n",
    "        .apply(lambda x: VectFromSmiles(x, radius=radius, nBits=nBits))\n",
    "        .tolist()\n",
    "    )\n",
    "    y = df[\"Activity\"]\n",
    "    X_train = X.loc[indices_train]\n",
    "    y_train = y.loc[indices_train]\n",
    "    cv_score = np.mean(\n",
    "        cross_val_score(\n",
    "            LogisticRegression(C=C, penalty=penalty),\n",
    "            X_train,\n",
    "            y_train,\n",
    "            cv=4,\n",
    "            scoring=\"roc_auc\",\n",
    "        )\n",
    "    )\n",
    "    scores_LogReg.append(cv_score)\n",
    "    hyperparameters_LogReg.append(\n",
    "        {\"radius\": radius, \"nBits\": nBits, \"C\": C, \"penalty\": penalty}\n",
    "    )\n",
    "\n",
    "best_score_LogReg = scores_LogReg[np.nanargmax(scores_LogReg)]\n",
    "best_params_LogReg = hyperparameters_LogReg[np.nanargmax(scores_LogReg)]\n",
    "\n",
    "print(f\"Best score of LogReg: {best_score_LogReg}\")\n",
    "print(f\"Best parameters of LogReg: {best_params_LogReg}\")"
   ]
  },
  {
   "cell_type": "markdown",
   "id": "65f1a976-7fac-4654-ad8c-dbfac59c6e8e",
   "metadata": {},
   "source": [
    "#### Random Forest Classifier"
   ]
  },
  {
   "cell_type": "code",
   "execution_count": 29,
   "id": "8d594a04-8367-491f-9cde-a6fdc8d3da88",
   "metadata": {
    "tags": []
   },
   "outputs": [
    {
     "name": "stderr",
     "output_type": "stream",
     "text": [
      "9000it [2:14:45,  1.11it/s]"
     ]
    },
    {
     "name": "stdout",
     "output_type": "stream",
     "text": [
      "Best score of RFC: 0.8293411033664111\n",
      "Best parameters of RFC: {'radius': 4, 'nBits': 512, 'n_estimators': 55, 'max_depth': 12, 'min_samples_split': 5, 'min_samples_leaf': 2}\n"
     ]
    },
    {
     "name": "stderr",
     "output_type": "stream",
     "text": [
      "\n"
     ]
    }
   ],
   "source": [
    "scores_RFC = []\n",
    "hyperparameters_RFC = []\n",
    "for radius, nBits, n_estimators, max_depth, min_samples_split, min_samples_leaf in tqdm(\n",
    "    itertools.product(\n",
    "        [2, 3, 4, 5, 6],\n",
    "        [512, 1024, 2048],\n",
    "        [int(x) for x in np.linspace(10, 100, num=5)],\n",
    "        [int(x) for x in np.linspace(3, 20, num=8)],\n",
    "        [2, 5, 10],\n",
    "        [int(x) for x in np.linspace(2, 10, num=5)],\n",
    "    )\n",
    "):\n",
    "    X = pd.DataFrame(\n",
    "        df[\"SMILES\"]\n",
    "        .apply(lambda x: VectFromSmiles(x, radius=radius, nBits=nBits))\n",
    "        .tolist()\n",
    "    )\n",
    "    y = df[\"Activity\"]\n",
    "    X_train = X.loc[indices_train]\n",
    "    y_train = y.loc[indices_train]\n",
    "    cv_score = np.mean(\n",
    "        cross_val_score(\n",
    "            RandomForestClassifier(\n",
    "                n_estimators=n_estimators,\n",
    "                max_depth=max_depth,\n",
    "                min_samples_split=min_samples_split,\n",
    "                min_samples_leaf=min_samples_leaf,\n",
    "            ),\n",
    "            X_train,\n",
    "            y_train,\n",
    "            cv=4,\n",
    "            scoring=\"roc_auc\",\n",
    "        )\n",
    "    )\n",
    "    scores_RFC.append(cv_score)\n",
    "    hyperparameters_RFC.append(\n",
    "        {\n",
    "            \"radius\": radius,\n",
    "            \"nBits\": nBits,\n",
    "            \"n_estimators\": n_estimators,\n",
    "            \"max_depth\": max_depth,\n",
    "            \"min_samples_split\": min_samples_split,\n",
    "            \"min_samples_leaf\": min_samples_leaf,\n",
    "        }\n",
    "    )\n",
    "\n",
    "best_score_RFC = scores_RFC[np.nanargmax(scores_RFC)]\n",
    "best_params_RFC = hyperparameters_RFC[np.nanargmax(scores_RFC)]\n",
    "\n",
    "print(f\"Best score of RFC: {best_score_RFC}\")\n",
    "print(f\"Best parameters of RFC: {best_params_RFC}\")"
   ]
  },
  {
   "cell_type": "markdown",
   "id": "ffe89ba0-c38e-41ab-b14a-48e6d64b1dab",
   "metadata": {},
   "source": [
    "#### Random Forest Classifier (score : 0.83) is better than Logistic Regression (score : 0.81)"
   ]
  },
  {
   "cell_type": "code",
   "execution_count": 30,
   "id": "1297e7b0-fced-46c7-9869-35a27b9ffb6d",
   "metadata": {},
   "outputs": [],
   "source": [
    "best_radius = best_params_RFC[\"radius\"]\n",
    "best_nBits = best_params_RFC[\"nBits\"]\n",
    "best_n_estimators = best_params_RFC[\"n_estimators\"]\n",
    "best_max_depth = best_params_RFC[\"max_depth\"]\n",
    "best_min_samples_split = best_params_RFC[\"min_samples_split\"]\n",
    "best_min_samples_leaf = best_params_RFC[\"min_samples_leaf\"]"
   ]
  },
  {
   "cell_type": "markdown",
   "id": "28df1bd2-d238-47e6-a706-aeb6bec5f9f8",
   "metadata": {},
   "source": [
    "# Optimal model training\n",
    "In order to save the optimal parameters (as a .pkl) and to use the model in the API"
   ]
  },
  {
   "cell_type": "code",
   "execution_count": 31,
   "id": "f2db1eb2-ab9b-404d-b557-fa8c6f4fe452",
   "metadata": {},
   "outputs": [],
   "source": [
    "X = pd.DataFrame(\n",
    "    df[\"SMILES\"]\n",
    "    .apply(lambda x: VectFromSmiles(x, radius=best_radius, nBits=best_nBits))\n",
    "    .tolist()\n",
    ")\n",
    "y = df[\"Activity\"]\n",
    "X_train = X.loc[indices_train]\n",
    "y_train = y.loc[indices_train]\n",
    "X_test = X.loc[indices_test]\n",
    "y_test = y.loc[indices_test]"
   ]
  },
  {
   "cell_type": "code",
   "execution_count": 32,
   "id": "ae5d14b7-d064-44f3-be58-fff6c959c628",
   "metadata": {},
   "outputs": [
    {
     "data": {
      "text/plain": [
       "RandomForestClassifier(max_depth=12, min_samples_leaf=2, min_samples_split=5,\n",
       "                       n_estimators=55)"
      ]
     },
     "execution_count": 32,
     "metadata": {},
     "output_type": "execute_result"
    }
   ],
   "source": [
    "Model = RandomForestClassifier(\n",
    "    n_estimators=best_n_estimators,\n",
    "    max_depth=best_max_depth,\n",
    "    min_samples_split=best_min_samples_split,\n",
    "    min_samples_leaf=best_min_samples_leaf,\n",
    ")\n",
    "Model.fit(X_train, y_train)"
   ]
  },
  {
   "cell_type": "code",
   "execution_count": 33,
   "id": "b00cb61c-36ab-4f38-b50d-ec7dd38207e5",
   "metadata": {},
   "outputs": [
    {
     "data": {
      "text/plain": [
       "0.7439353099730459"
      ]
     },
     "execution_count": 33,
     "metadata": {},
     "output_type": "execute_result"
    }
   ],
   "source": [
    "roc_auc_score(Model.predict(X_test), y_test)"
   ]
  },
  {
   "cell_type": "code",
   "execution_count": 34,
   "id": "9c0dde99-0438-48a9-9bdf-d2e09f924091",
   "metadata": {},
   "outputs": [
    {
     "data": {
      "text/plain": [
       "RandomForestClassifier(max_depth=12, min_samples_leaf=2, min_samples_split=5,\n",
       "                       n_estimators=55)"
      ]
     },
     "execution_count": 34,
     "metadata": {},
     "output_type": "execute_result"
    }
   ],
   "source": [
    "Model.fit(X, y)"
   ]
  },
  {
   "cell_type": "code",
   "execution_count": 35,
   "id": "04c719d5-3fb6-47ba-8415-2cf7d522dd4b",
   "metadata": {},
   "outputs": [],
   "source": [
    "pickle.dump(Model, open(\"model.pkl\", \"wb\"))"
   ]
  }
 ],
 "metadata": {
  "kernelspec": {
   "display_name": "Python 3 (ipykernel)",
   "language": "python",
   "name": "python3"
  },
  "language_info": {
   "codemirror_mode": {
    "name": "ipython",
    "version": 3
   },
   "file_extension": ".py",
   "mimetype": "text/x-python",
   "name": "python",
   "nbconvert_exporter": "python",
   "pygments_lexer": "ipython3",
   "version": "3.7.11"
  }
 },
 "nbformat": 4,
 "nbformat_minor": 5
}
